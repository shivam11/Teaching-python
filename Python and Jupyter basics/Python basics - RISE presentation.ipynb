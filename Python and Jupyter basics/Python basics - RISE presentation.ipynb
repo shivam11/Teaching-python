{
 "cells": [
  {
   "cell_type": "markdown",
   "metadata": {
    "nbpresent": {
     "id": "02da5299-f678-4cdc-b29e-a6b8e74be98c"
    },
    "slideshow": {
     "slide_type": "slide"
    }
   },
   "source": [
    "\n",
    "# Some Python and Jupyter Basics  \n",
    "<br>\n",
    "## Greg Schivley  \n",
    "<br>\n",
    "### With material taken from the [Whirlwind Tour of Python](https://nbviewer.jupyter.org/github/jakevdp/WhirlwindTourOfPython/tree/master/)"
   ]
  },
  {
   "cell_type": "markdown",
   "metadata": {
    "slideshow": {
     "slide_type": "slide"
    }
   },
   "source": [
    "This session is going to cover some basics of Python and Jupyter notebooks that I have found useful or wish I learned sooner. \n",
    "\n",
    "I assume you know some programming, so I won't specifically cover loops, logic statements, or functions.\n",
    "\n",
    "Stop me with questions as we go."
   ]
  },
  {
   "cell_type": "markdown",
   "metadata": {
    "slideshow": {
     "slide_type": "slide"
    }
   },
   "source": [
    "## Using conda to manage Python\n",
    "\n",
    "Python is an open source language with lots of awesome libraries and packages. But you have to install and manage them yourself.\n",
    "\n",
    "The Anaconda distribution comes with most of what you need for scientific computing, but you might find others or need to update packages."
   ]
  },
  {
   "cell_type": "markdown",
   "metadata": {
    "slideshow": {
     "slide_type": "subslide"
    }
   },
   "source": [
    "**`pip`** is the default python package manager, and is used to install packages from [PyPI](https://pypi.python.org/pypi). Some packages are only available on PyPI, so you'll need to use **`pip`** to get them."
   ]
  },
  {
   "cell_type": "markdown",
   "metadata": {
    "slideshow": {
     "slide_type": "subslide"
    }
   },
   "source": [
    "Unless you have to use **`pip`**, I recommend sticking with **`conda`** to manage packages. \n",
    "\n",
    "Each can't manage packages installed by the other, so it's easy to end up with duplicate versions. "
   ]
  },
  {
   "cell_type": "markdown",
   "metadata": {
    "slideshow": {
     "slide_type": "subslide"
    }
   },
   "source": [
    "### Using conda in terminal\n",
    "\n",
    "`conda install ...\n",
    "conda update ...\n",
    "conda remove ...`\n",
    "\n",
    "Unfortunately **`pip`** has different syntax  \n",
    "\n",
    "It's also worth reading [this blog](https://jakevdp.github.io/blog/2016/08/25/conda-myths-and-misconceptions/) that talks about the history and differences between conda and pip."
   ]
  },
  {
   "cell_type": "markdown",
   "metadata": {
    "slideshow": {
     "slide_type": "slide"
    }
   },
   "source": [
    "## Jupyter notebooks\n",
    "\n",
    "[Quick Start Guide](http://jupyter-notebook-beginner-guide.readthedocs.io/en/latest/what_is_jupyter.html)"
   ]
  },
  {
   "cell_type": "markdown",
   "metadata": {
    "slideshow": {
     "slide_type": "fragment"
    }
   },
   "source": [
    "- Computer code"
   ]
  },
  {
   "cell_type": "markdown",
   "metadata": {
    "slideshow": {
     "slide_type": "fragment"
    }
   },
   "source": [
    "- Rich text elements"
   ]
  },
  {
   "cell_type": "markdown",
   "metadata": {
    "slideshow": {
     "slide_type": "fragment"
    }
   },
   "source": [
    "- Inline figures"
   ]
  },
  {
   "cell_type": "markdown",
   "metadata": {
    "slideshow": {
     "slide_type": "slide"
    }
   },
   "source": [
    "## Notebooks run in your browser"
   ]
  },
  {
   "cell_type": "markdown",
   "metadata": {
    "slideshow": {
     "slide_type": "subslide"
    }
   },
   "source": [
    "<img  src=\"Screen Shot 2017-01-03 at 12.30.07 PM.png\"/>"
   ]
  },
  {
   "cell_type": "markdown",
   "metadata": {
    "slideshow": {
     "slide_type": "subslide"
    }
   },
   "source": [
    "<img  src=\"Screen Shot 2017-01-03 at 12.32.24 PM.png\"/>"
   ]
  },
  {
   "cell_type": "markdown",
   "metadata": {
    "collapsed": true,
    "slideshow": {
     "slide_type": "slide"
    }
   },
   "source": [
    "## Strengths/weaknesses of notebooks"
   ]
  },
  {
   "cell_type": "markdown",
   "metadata": {
    "collapsed": true,
    "slideshow": {
     "slide_type": "subslide"
    }
   },
   "source": [
    "## Pros\n",
    "- Great way to iteratively explore data or do analysis\n",
    "- Lets you document your work in a readable way as you go\n",
    "- Notebooks can be easily shared as HTML through [nbviewer.jupyter.org](https://nbviewer.jupyter.org) and will render as HTML on GitHub\n",
    "- Entire [textbooks](http://camdavidsonpilon.github.io/Probabilistic-Programming-and-Bayesian-Methods-for-Hackers/) have been written in the notebook format\n",
    "- Can accommodate non-Python kernels (R, Julia, Haskel, etc) or [run other languages](https://blog.dominodatalab.com/lesser-known-ways-of-using-notebooks/) in a Python notebook."
   ]
  },
  {
   "cell_type": "markdown",
   "metadata": {
    "collapsed": true,
    "slideshow": {
     "slide_type": "subslide"
    }
   },
   "source": [
    "## Cons\n",
    "- Notebooks can get really long\n",
    "- Easy to be lazy and copy code rather than creating functions\n",
    "- Might lose some functionality from your favorite IDE\n",
    "- Have to keep your browser open"
   ]
  },
  {
   "cell_type": "markdown",
   "metadata": {
    "slideshow": {
     "slide_type": "slide"
    }
   },
   "source": [
    "## How to use Jupyter notebooks\n",
    "\n",
    "This is just to get you started. \n",
    "\n",
    "Read the Jupyter documentation ([Quick Start](http://jupyter-notebook-beginner-guide.readthedocs.io/en/latest/index.html) or [Main](http://jupyter.readthedocs.io/en/latest/)) for more information. "
   ]
  },
  {
   "cell_type": "markdown",
   "metadata": {
    "slideshow": {
     "slide_type": "subslide"
    }
   },
   "source": [
    "Open a command prompt or terminal window and navigate to the parent folder where you are working"
   ]
  },
  {
   "cell_type": "markdown",
   "metadata": {
    "slideshow": {
     "slide_type": "fragment"
    }
   },
   "source": [
    "<img  src=\"Screen Shot 2017-01-03 at 12.50.48 PM.png\"/>"
   ]
  },
  {
   "cell_type": "markdown",
   "metadata": {
    "slideshow": {
     "slide_type": "subslide"
    }
   },
   "source": [
    "Type `jupyter notebook` to launch the notebook server"
   ]
  },
  {
   "cell_type": "markdown",
   "metadata": {
    "slideshow": {
     "slide_type": "fragment"
    }
   },
   "source": [
    "<img  src=\"Screen Shot 2017-01-03 at 12.52.37 PM.png\"/>"
   ]
  },
  {
   "cell_type": "markdown",
   "metadata": {
    "slideshow": {
     "slide_type": "subslide"
    }
   },
   "source": [
    "## Helpful keyboard shortcuts"
   ]
  },
  {
   "cell_type": "markdown",
   "metadata": {
    "slideshow": {
     "slide_type": "fragment"
    }
   },
   "source": [
    "- `esc` exits out of edit mode (green box) and puts the cell in command mode (blue box)\n",
    "    - Most keyboard commands are run when in command mode\n",
    "- `shift-enter` runs a cell and moves to the next cell\n",
    "- `m` changes a cell to markdown, `1-6` makes it markdown as a section header\n",
    "- `dd` deletes a cell\n",
    "- `c` copies a cell, `v` pastes it below the currently selected cell"
   ]
  },
  {
   "cell_type": "markdown",
   "metadata": {
    "nbpresent": {
     "id": "6d743196-04f2-4e1d-bd94-52fe9dc7344e"
    },
    "slideshow": {
     "slide_type": "slide"
    }
   },
   "source": [
    "## Python Variables Are Pointers\n",
    "\n"
   ]
  },
  {
   "cell_type": "markdown",
   "metadata": {
    "nbpresent": {
     "id": "1ec1eadf-3cec-40e9-9af3-9052dccc4486"
    },
    "slideshow": {
     "slide_type": "fragment"
    }
   },
   "source": [
    "Assigning variables in Python is as easy as putting a variable name to the left of the equals (=) sign."
   ]
  },
  {
   "cell_type": "code",
   "execution_count": 1,
   "metadata": {
    "collapsed": false,
    "slideshow": {
     "slide_type": "fragment"
    }
   },
   "outputs": [
    {
     "name": "stdout",
     "output_type": "stream",
     "text": [
      "4 <type 'int'>\n"
     ]
    }
   ],
   "source": [
    "x = 4\n",
    "print x, type(x)"
   ]
  },
  {
   "cell_type": "code",
   "execution_count": 3,
   "metadata": {
    "collapsed": false,
    "nbpresent": {
     "id": "250bb595-1035-4052-898e-2b7718d51519"
    },
    "slideshow": {
     "slide_type": "subslide"
    }
   },
   "outputs": [
    {
     "name": "stdout",
     "output_type": "stream",
     "text": [
      "hello <type 'str'>\n"
     ]
    }
   ],
   "source": [
    "x = 'hello'\n",
    "print x, type(x)"
   ]
  },
  {
   "cell_type": "code",
   "execution_count": 4,
   "metadata": {
    "collapsed": false,
    "nbpresent": {
     "id": "345b4b0b-ef5b-41fe-9ce1-edb5f34c0da8"
    },
    "slideshow": {
     "slide_type": "subslide"
    }
   },
   "outputs": [
    {
     "name": "stdout",
     "output_type": "stream",
     "text": [
      "[1, 2, 3]\n",
      "<type 'list'>\n",
      "3\n"
     ]
    }
   ],
   "source": [
    "x = 1         # x is an integer\n",
    "x = 'hello'   # now x is a string\n",
    "x = [1, 2, 3] # now x is a list\n",
    "print x\n",
    "print type(x)\n",
    "print len(x)"
   ]
  },
  {
   "cell_type": "markdown",
   "metadata": {
    "slideshow": {
     "slide_type": "slide"
    }
   },
   "source": [
    "## Python variables are pointers"
   ]
  },
  {
   "cell_type": "markdown",
   "metadata": {
    "nbpresent": {
     "id": "eaebfdbd-d8ab-4c69-990e-731894840e21"
    },
    "slideshow": {
     "slide_type": "fragment"
    }
   },
   "source": [
    "Two variables can point to the same object. Be careful, as this can lead to unanticipated consequences!"
   ]
  },
  {
   "cell_type": "code",
   "execution_count": 5,
   "metadata": {
    "collapsed": false
   },
   "outputs": [
    {
     "name": "stdout",
     "output_type": "stream",
     "text": [
      "[1, 2, 3]\n"
     ]
    }
   ],
   "source": [
    "x = [1, 2, 3]\n",
    "y = x\n",
    "print y"
   ]
  },
  {
   "cell_type": "code",
   "execution_count": 6,
   "metadata": {
    "collapsed": false,
    "nbpresent": {
     "id": "ffd48fad-654b-4d07-b832-b369d3069f1b"
    },
    "slideshow": {
     "slide_type": "fragment"
    }
   },
   "outputs": [
    {
     "name": "stdout",
     "output_type": "stream",
     "text": [
      "[1, 2, 3, 4]\n"
     ]
    }
   ],
   "source": [
    "x.append(4)\n",
    "print y"
   ]
  },
  {
   "cell_type": "markdown",
   "metadata": {
    "slideshow": {
     "slide_type": "slide"
    }
   },
   "source": [
    "## Python variables are pointers"
   ]
  },
  {
   "cell_type": "markdown",
   "metadata": {
    "nbpresent": {
     "id": "710f736f-af7c-4e85-8ad2-d9815671a335"
    },
    "slideshow": {
     "slide_type": "fragment"
    }
   },
   "source": [
    "Fortunately, simple objects are *immutable* - you can't change the value of \"10\" in memory, but you can point a variable to a different value"
   ]
  },
  {
   "cell_type": "code",
   "execution_count": 7,
   "metadata": {
    "collapsed": false,
    "nbpresent": {
     "id": "9f77a151-2617-4bad-9a15-695c1ca92731"
    },
    "slideshow": {
     "slide_type": "subslide"
    }
   },
   "outputs": [
    {
     "name": "stdout",
     "output_type": "stream",
     "text": [
      "x = 15\n",
      "y = 10\n"
     ]
    }
   ],
   "source": [
    "x = 10\n",
    "y = x\n",
    "# add 5 to x's value, and assign it to x\n",
    "x += 5  \n",
    "print \"x =\", x\n",
    "print \"y =\", y"
   ]
  },
  {
   "cell_type": "markdown",
   "metadata": {
    "nbpresent": {
     "id": "a675b25e-4339-4050-be39-0623b06dd60c"
    },
    "slideshow": {
     "slide_type": "slide"
    }
   },
   "source": [
    "## Off-topic note\n",
    "Python 3 does away with int/float division issues. You can add this behavior to Python 2."
   ]
  },
  {
   "cell_type": "code",
   "execution_count": 10,
   "metadata": {
    "collapsed": false,
    "nbpresent": {
     "id": "b43f08cc-18bd-45a1-add6-4671a6dcb3f6"
    },
    "slideshow": {
     "slide_type": "fragment"
    }
   },
   "outputs": [
    {
     "data": {
      "text/plain": [
       "1.5"
      ]
     },
     "execution_count": 10,
     "metadata": {},
     "output_type": "execute_result"
    }
   ],
   "source": [
    "# 3/2\n",
    "3/2."
   ]
  },
  {
   "cell_type": "code",
   "execution_count": 13,
   "metadata": {
    "collapsed": false,
    "slideshow": {
     "slide_type": "fragment"
    }
   },
   "outputs": [
    {
     "data": {
      "text/plain": [
       "1.5"
      ]
     },
     "execution_count": 13,
     "metadata": {},
     "output_type": "execute_result"
    }
   ],
   "source": [
    "from __future__ import division\n",
    "3/2"
   ]
  },
  {
   "cell_type": "markdown",
   "metadata": {
    "nbpresent": {
     "id": "9a139a02-f6d3-430a-8310-e8616a9903b0"
    },
    "slideshow": {
     "slide_type": "slide"
    }
   },
   "source": [
    "## Types of objects (data structures)"
   ]
  },
  {
   "cell_type": "markdown",
   "metadata": {
    "nbpresent": {
     "id": "91f91afa-f4c8-4358-8ee0-20d97ffd765e"
    },
    "slideshow": {
     "slide_type": "skip"
    }
   },
   "source": [
    "Common basic Python objects include:\n",
    "- Simple objects like ints, floats, strings, etc\n",
    "- Lists\n",
    "- Sets\n",
    "- Dictionaries\n",
    "- Tuples"
   ]
  },
  {
   "cell_type": "markdown",
   "metadata": {
    "nbpresent": {
     "id": "3d14783d-652c-47f8-919d-60786eb00e18"
    },
    "slideshow": {
     "slide_type": "subslide"
    }
   },
   "source": [
    "| Type      | Example                 |Description                            |\n",
    "|-----------|-------------------------|---------------------------------------|\n",
    "|   list    | [1, 2, 3]           | Ordered collection                    |\n",
    "| tuple | (1, 2, 3)           | Immutable ordered collection          |\n",
    "| dict  | {'a':1, 'b':2, 'c':3} | Unordered (key,value) mapping         |\n",
    "| set   | {1, 2, 3}           | Unordered collection of unique values |"
   ]
  },
  {
   "cell_type": "markdown",
   "metadata": {
    "nbpresent": {
     "id": "7b10e496-3399-47ba-8d3d-bc9a4034e96f"
    },
    "slideshow": {
     "slide_type": "slide"
    }
   },
   "source": [
    "## Lists\n",
    "\n",
    "Some basic list operations"
   ]
  },
  {
   "cell_type": "code",
   "execution_count": 14,
   "metadata": {
    "collapsed": false,
    "nbpresent": {
     "id": "13510f3d-8643-4553-83a3-9140195bffaa"
    },
    "slideshow": {
     "slide_type": "subslide"
    }
   },
   "outputs": [
    {
     "name": "stdout",
     "output_type": "stream",
     "text": [
      "[2, 3, 5, 7]\n",
      "4\n"
     ]
    }
   ],
   "source": [
    "L = [2, 3, 5, 7] # Define a list\n",
    "print L\n",
    "print len(L)"
   ]
  },
  {
   "cell_type": "markdown",
   "metadata": {
    "slideshow": {
     "slide_type": "subslide"
    }
   },
   "source": [
    "Addition concatenates lists.\n",
    "\n",
    "Lists can be a combination of different object types, including other lists"
   ]
  },
  {
   "cell_type": "code",
   "execution_count": 18,
   "metadata": {
    "collapsed": false,
    "nbpresent": {
     "id": "bfa9ace6-9ac0-40ab-96db-6a1bf4128a3d"
    },
    "slideshow": {
     "slide_type": "fragment"
    }
   },
   "outputs": [
    {
     "name": "stdout",
     "output_type": "stream",
     "text": [
      "[2, 3, 5, 7, 13, 17, 19, ['a', 'b']]\n"
     ]
    }
   ],
   "source": [
    "# L = L + [13, 17, 19, ['a', 'b']]\n",
    "print L"
   ]
  },
  {
   "cell_type": "markdown",
   "metadata": {
    "nbpresent": {
     "id": "0b935349-7c6f-458f-a36e-65387f72acc5"
    },
    "slideshow": {
     "slide_type": "slide"
    }
   },
   "source": [
    "## List indexing and slicing\n",
    "\n",
    "Python provides access to elements through indexing (single elements), and slicing (multiple elements). \n",
    "\n",
    "Both are indicated by a square-bracket syntax."
   ]
  },
  {
   "cell_type": "code",
   "execution_count": 19,
   "metadata": {
    "collapsed": false,
    "nbpresent": {
     "id": "715925bb-f243-42e7-8bad-8cc46edde207"
    },
    "slideshow": {
     "slide_type": "subslide"
    }
   },
   "outputs": [],
   "source": [
    "L = [2, 3, 5, 7, 11]"
   ]
  },
  {
   "cell_type": "code",
   "execution_count": 20,
   "metadata": {
    "collapsed": false,
    "nbpresent": {
     "id": "04f6b1b2-0c70-448c-800f-36798b0291d9"
    },
    "slideshow": {
     "slide_type": "fragment"
    }
   },
   "outputs": [
    {
     "data": {
      "text/plain": [
       "2"
      ]
     },
     "execution_count": 20,
     "metadata": {},
     "output_type": "execute_result"
    }
   ],
   "source": [
    "L[0] # Python is 0 indexed"
   ]
  },
  {
   "cell_type": "code",
   "execution_count": 24,
   "metadata": {
    "collapsed": false,
    "slideshow": {
     "slide_type": "fragment"
    }
   },
   "outputs": [
    {
     "data": {
      "text/plain": [
       "[2, 3, 5]"
      ]
     },
     "execution_count": 24,
     "metadata": {},
     "output_type": "execute_result"
    }
   ],
   "source": [
    "L[:-2]"
   ]
  },
  {
   "cell_type": "code",
   "execution_count": 25,
   "metadata": {
    "collapsed": false,
    "slideshow": {
     "slide_type": "fragment"
    }
   },
   "outputs": [
    {
     "data": {
      "text/plain": [
       "[2, 3, 5]"
      ]
     },
     "execution_count": 25,
     "metadata": {},
     "output_type": "execute_result"
    }
   ],
   "source": [
    "L[0:3] # element 3 is not included [)"
   ]
  },
  {
   "cell_type": "markdown",
   "metadata": {
    "slideshow": {
     "slide_type": "subslide"
    }
   },
   "source": [
    "A few quick examples of easy logic statements"
   ]
  },
  {
   "cell_type": "code",
   "execution_count": 26,
   "metadata": {
    "collapsed": false,
    "slideshow": {
     "slide_type": "fragment"
    }
   },
   "outputs": [
    {
     "name": "stdout",
     "output_type": "stream",
     "text": [
      "[2, 3, 5, 7, 11]\n"
     ]
    }
   ],
   "source": [
    "print L"
   ]
  },
  {
   "cell_type": "code",
   "execution_count": 27,
   "metadata": {
    "collapsed": false,
    "slideshow": {
     "slide_type": "fragment"
    }
   },
   "outputs": [
    {
     "data": {
      "text/plain": [
       "True"
      ]
     },
     "execution_count": 27,
     "metadata": {},
     "output_type": "execute_result"
    }
   ],
   "source": [
    "2 in L"
   ]
  },
  {
   "cell_type": "code",
   "execution_count": 28,
   "metadata": {
    "collapsed": false,
    "slideshow": {
     "slide_type": "fragment"
    }
   },
   "outputs": [
    {
     "data": {
      "text/plain": [
       "False"
      ]
     },
     "execution_count": 28,
     "metadata": {},
     "output_type": "execute_result"
    }
   ],
   "source": [
    "4 in L"
   ]
  },
  {
   "cell_type": "code",
   "execution_count": 29,
   "metadata": {
    "collapsed": false,
    "slideshow": {
     "slide_type": "fragment"
    }
   },
   "outputs": [
    {
     "data": {
      "text/plain": [
       "True"
      ]
     },
     "execution_count": 29,
     "metadata": {},
     "output_type": "execute_result"
    }
   ],
   "source": [
    "(2 in L) and (4 not in L)"
   ]
  },
  {
   "cell_type": "markdown",
   "metadata": {
    "slideshow": {
     "slide_type": "slide"
    }
   },
   "source": [
    "## List comprehensions\n",
    "\n",
    "Lists are great basic objects, and can be extremely fast if used correctly"
   ]
  },
  {
   "cell_type": "markdown",
   "metadata": {
    "slideshow": {
     "slide_type": "subslide"
    }
   },
   "source": [
    "### Slower way to add values to a list"
   ]
  },
  {
   "cell_type": "code",
   "execution_count": 36,
   "metadata": {
    "collapsed": false,
    "slideshow": {
     "slide_type": "fragment"
    }
   },
   "outputs": [
    {
     "data": {
      "text/plain": [
       "[0, 1, 2, 3, 4]"
      ]
     },
     "execution_count": 36,
     "metadata": {},
     "output_type": "execute_result"
    }
   ],
   "source": [
    "# range generates a list from 0 to n-1\n",
    "# Behavior is different in Python 3\n",
    "range(5)"
   ]
  },
  {
   "cell_type": "code",
   "execution_count": 37,
   "metadata": {
    "collapsed": false,
    "slideshow": {
     "slide_type": "fragment"
    }
   },
   "outputs": [
    {
     "name": "stdout",
     "output_type": "stream",
     "text": [
      "The slowest run took 19.06 times longer than the fastest. This could mean that an intermediate result is being cached \n",
      "10000 loops, best of 3: 150 µs per loop\n"
     ]
    }
   ],
   "source": [
    "%%timeit\n",
    "l = [] # Iniitalize an empty list\n",
    "for value in range(500):\n",
    "    l.append(value**2)"
   ]
  },
  {
   "cell_type": "markdown",
   "metadata": {
    "slideshow": {
     "slide_type": "subslide"
    }
   },
   "source": [
    "### Better way to generate a list\n",
    "Don't do this for very complex calculations - gets hard to read"
   ]
  },
  {
   "cell_type": "code",
   "execution_count": 38,
   "metadata": {
    "collapsed": false,
    "slideshow": {
     "slide_type": "fragment"
    }
   },
   "outputs": [
    {
     "name": "stdout",
     "output_type": "stream",
     "text": [
      "10000 loops, best of 3: 106 µs per loop\n"
     ]
    }
   ],
   "source": [
    "%%timeit\n",
    "[value**2 for value in range(500)]"
   ]
  },
  {
   "cell_type": "markdown",
   "metadata": {
    "slideshow": {
     "slide_type": "subslide"
    }
   },
   "source": [
    "### Using NumPy operations on an entire array is even faster"
   ]
  },
  {
   "cell_type": "code",
   "execution_count": 40,
   "metadata": {
    "collapsed": false,
    "slideshow": {
     "slide_type": "fragment"
    }
   },
   "outputs": [
    {
     "data": {
      "text/plain": [
       "array([0, 1, 2, 3, 4])"
      ]
     },
     "execution_count": 40,
     "metadata": {},
     "output_type": "execute_result"
    }
   ],
   "source": [
    "import numpy as np\n",
    "np.array(range(5))"
   ]
  },
  {
   "cell_type": "code",
   "execution_count": 41,
   "metadata": {
    "collapsed": false,
    "slideshow": {
     "slide_type": "fragment"
    }
   },
   "outputs": [
    {
     "name": "stdout",
     "output_type": "stream",
     "text": [
      "10000 loops, best of 3: 28.3 µs per loop\n"
     ]
    }
   ],
   "source": [
    "%%timeit\n",
    "np.array(range(500))**2"
   ]
  },
  {
   "cell_type": "markdown",
   "metadata": {
    "collapsed": true,
    "slideshow": {
     "slide_type": "slide"
    }
   },
   "source": [
    "## Tuples\n",
    "\n",
    "Tuples are in many ways similar to lists, but they are defined with parentheses rather than square brackets.\n",
    "\n",
    "Or they can be defined without any brackets."
   ]
  },
  {
   "cell_type": "code",
   "execution_count": 42,
   "metadata": {
    "collapsed": true,
    "slideshow": {
     "slide_type": "fragment"
    }
   },
   "outputs": [],
   "source": [
    "t = (1, 2, 3)"
   ]
  },
  {
   "cell_type": "code",
   "execution_count": 43,
   "metadata": {
    "collapsed": false,
    "slideshow": {
     "slide_type": "fragment"
    }
   },
   "outputs": [
    {
     "name": "stdout",
     "output_type": "stream",
     "text": [
      "(1, 2, 3)\n",
      "1\n"
     ]
    }
   ],
   "source": [
    "t = 1, 2, 3\n",
    "print t\n",
    "print t[0]"
   ]
  },
  {
   "cell_type": "markdown",
   "metadata": {
    "slideshow": {
     "slide_type": "slide"
    }
   },
   "source": [
    "## Tuples are immutable\n",
    "\n",
    "Once defined, the object can't be changed."
   ]
  },
  {
   "cell_type": "code",
   "execution_count": 44,
   "metadata": {
    "collapsed": false,
    "slideshow": {
     "slide_type": "fragment"
    }
   },
   "outputs": [
    {
     "ename": "TypeError",
     "evalue": "'tuple' object does not support item assignment",
     "output_type": "error",
     "traceback": [
      "\u001b[0;31m---------------------------------------------------------------------------\u001b[0m",
      "\u001b[0;31mTypeError\u001b[0m                                 Traceback (most recent call last)",
      "\u001b[0;32m<ipython-input-44-141c76cb54a2>\u001b[0m in \u001b[0;36m<module>\u001b[0;34m()\u001b[0m\n\u001b[0;32m----> 1\u001b[0;31m \u001b[0mt\u001b[0m\u001b[0;34m[\u001b[0m\u001b[0;36m1\u001b[0m\u001b[0;34m]\u001b[0m \u001b[0;34m=\u001b[0m \u001b[0;36m4\u001b[0m\u001b[0;34m\u001b[0m\u001b[0m\n\u001b[0m",
      "\u001b[0;31mTypeError\u001b[0m: 'tuple' object does not support item assignment"
     ]
    }
   ],
   "source": [
    "t[1] = 4"
   ]
  },
  {
   "cell_type": "markdown",
   "metadata": {
    "slideshow": {
     "slide_type": "slide"
    }
   },
   "source": [
    "## Tuples are often used to pass groups of values\n",
    "\n",
    "Pass a group of objects/values into or out of a function"
   ]
  },
  {
   "cell_type": "code",
   "execution_count": 45,
   "metadata": {
    "collapsed": false,
    "slideshow": {
     "slide_type": "subslide"
    }
   },
   "outputs": [
    {
     "data": {
      "text/plain": [
       "(4, 8)"
      ]
     },
     "execution_count": 45,
     "metadata": {},
     "output_type": "execute_result"
    }
   ],
   "source": [
    "def f(x):\n",
    "    a = x**2\n",
    "    b = x**3\n",
    "    return a, b\n",
    "\n",
    "f(2)"
   ]
  },
  {
   "cell_type": "code",
   "execution_count": 46,
   "metadata": {
    "collapsed": false,
    "slideshow": {
     "slide_type": "fragment"
    }
   },
   "outputs": [
    {
     "name": "stdout",
     "output_type": "stream",
     "text": [
      "a = 4\n",
      "b = 8\n"
     ]
    }
   ],
   "source": [
    "a, b = f(2)\n",
    "print 'a =', a\n",
    "print 'b =', b"
   ]
  },
  {
   "cell_type": "markdown",
   "metadata": {
    "slideshow": {
     "slide_type": "fragment"
    }
   },
   "source": [
    "I defined a function above. Functions start with <span style=\"color:green; font-family:Monospace\">def</span>, end the first line with a colon, and use <span style=\"color:green; font-family:Monospace\">return</span> if you are returning values"
   ]
  },
  {
   "cell_type": "markdown",
   "metadata": {
    "slideshow": {
     "slide_type": "slide"
    }
   },
   "source": [
    "## Dictionaries\n",
    "\n",
    "Dictionaries are flexible mappings of keys to values. They are created via a comma-separated list of key:value pairs within curly braces."
   ]
  },
  {
   "cell_type": "code",
   "execution_count": 47,
   "metadata": {
    "collapsed": false,
    "slideshow": {
     "slide_type": "fragment"
    }
   },
   "outputs": [
    {
     "data": {
      "text/plain": [
       "{'one': 1, 'three': 3, 'two': 2}"
      ]
     },
     "execution_count": 47,
     "metadata": {},
     "output_type": "execute_result"
    }
   ],
   "source": [
    "numbers = {'one':1, 'two':2, 'three':3}\n",
    "numbers"
   ]
  },
  {
   "cell_type": "code",
   "execution_count": 48,
   "metadata": {
    "collapsed": false,
    "slideshow": {
     "slide_type": "subslide"
    }
   },
   "outputs": [
    {
     "data": {
      "text/plain": [
       "2"
      ]
     },
     "execution_count": 48,
     "metadata": {},
     "output_type": "execute_result"
    }
   ],
   "source": [
    "numbers['two'] # Use a key to return the matching value"
   ]
  },
  {
   "cell_type": "code",
   "execution_count": 49,
   "metadata": {
    "collapsed": false,
    "slideshow": {
     "slide_type": "fragment"
    }
   },
   "outputs": [
    {
     "data": {
      "text/plain": [
       "['three', 'two', 'one']"
      ]
     },
     "execution_count": 49,
     "metadata": {},
     "output_type": "execute_result"
    }
   ],
   "source": [
    "numbers.keys() # Keys don't stay ordered"
   ]
  },
  {
   "cell_type": "markdown",
   "metadata": {
    "slideshow": {
     "slide_type": "slide"
    }
   },
   "source": [
    "## Sets\n",
    "\n",
    "Sets are collections of unique values. You can create a set of unique values from a list-like object and can use set operations (union, intersection, etc)"
   ]
  },
  {
   "cell_type": "code",
   "execution_count": 54,
   "metadata": {
    "collapsed": false,
    "slideshow": {
     "slide_type": "fragment"
    }
   },
   "outputs": [
    {
     "data": {
      "text/plain": [
       "{1, 2, 4, 5}"
      ]
     },
     "execution_count": 54,
     "metadata": {},
     "output_type": "execute_result"
    }
   ],
   "source": [
    "l = [1, 2, 1, 4, 5, 2]\n",
    "set(l)"
   ]
  },
  {
   "cell_type": "markdown",
   "metadata": {
    "slideshow": {
     "slide_type": "subslide"
    }
   },
   "source": [
    "I said **list-like** objects, which points to an important feature of Python: types don't matter so long as they behave correctly (duck typing)"
   ]
  },
  {
   "cell_type": "code",
   "execution_count": 56,
   "metadata": {
    "collapsed": false,
    "scrolled": true,
    "slideshow": {
     "slide_type": "fragment"
    }
   },
   "outputs": [
    {
     "data": {
      "text/plain": [
       "array([1, 2, 1, 4, 5, 2])"
      ]
     },
     "execution_count": 56,
     "metadata": {},
     "output_type": "execute_result"
    }
   ],
   "source": [
    "l_array = np.array(l) # make a numpy array from the list\n",
    "l_array\n",
    "# l_array.reshape((2,3))"
   ]
  },
  {
   "cell_type": "code",
   "execution_count": 52,
   "metadata": {
    "collapsed": false,
    "slideshow": {
     "slide_type": "fragment"
    }
   },
   "outputs": [
    {
     "data": {
      "text/plain": [
       "{1, 2, 4, 5}"
      ]
     },
     "execution_count": 52,
     "metadata": {},
     "output_type": "execute_result"
    }
   ],
   "source": [
    "set(l_array)"
   ]
  },
  {
   "cell_type": "markdown",
   "metadata": {
    "slideshow": {
     "slide_type": "slide"
    }
   },
   "source": [
    "## Iterators \n",
    "\n",
    "*Iterators* are objects with multiple values that can be looped through. Sometimes you can also do indirect iteration, which will provide a single value at a time.\n",
    "\n",
    "It's helpful to know about the `enumerate` and `zip` functions when using iterators."
   ]
  },
  {
   "cell_type": "markdown",
   "metadata": {
    "slideshow": {
     "slide_type": "subslide"
    }
   },
   "source": [
    "### Enumerate\n",
    "\n",
    "Return both the index and value for each item in the iterator"
   ]
  },
  {
   "cell_type": "code",
   "execution_count": 57,
   "metadata": {
    "collapsed": false,
    "slideshow": {
     "slide_type": "fragment"
    }
   },
   "outputs": [
    {
     "name": "stdout",
     "output_type": "stream",
     "text": [
      "0 dog\n",
      "1 cat\n",
      "2 pig\n",
      "3 sheep\n"
     ]
    }
   ],
   "source": [
    "for idx, value in enumerate(['dog', 'cat', 'pig', 'sheep']):\n",
    "    print idx, value"
   ]
  },
  {
   "cell_type": "markdown",
   "metadata": {
    "slideshow": {
     "slide_type": "subslide"
    }
   },
   "source": [
    "### Zip\n",
    "\n",
    "Combine two or more sets of iterators into a list of tuples"
   ]
  },
  {
   "cell_type": "code",
   "execution_count": 61,
   "metadata": {
    "collapsed": false,
    "slideshow": {
     "slide_type": "fragment"
    }
   },
   "outputs": [
    {
     "data": {
      "text/plain": [
       "(2, 3)"
      ]
     },
     "execution_count": 61,
     "metadata": {},
     "output_type": "execute_result"
    }
   ],
   "source": [
    "L = [2, 4, 6, 8, 10]\n",
    "R = [3, 6, 9, 12, 15]\n",
    "for lval, rval in zip(L, R):\n",
    "    print (lval, rval)\n",
    "# zip(L, R)[0]\n",
    "# Doing the same thing with indexing\n",
    "# for i in range(len(L)):\n",
    "#     print (L[i], R[i])"
   ]
  },
  {
   "cell_type": "markdown",
   "metadata": {
    "slideshow": {
     "slide_type": "slide"
    }
   },
   "source": [
    "## Common scientific Python libraries\n",
    "\n",
    "So far we've mostly covered objects in base Python. This is a brief list of some common libraries with incomplete descriptions."
   ]
  },
  {
   "cell_type": "markdown",
   "metadata": {
    "slideshow": {
     "slide_type": "subslide"
    }
   },
   "source": [
    "### Arrays and data\n",
    "\n",
    "- **NumPy**: Numeric computation library that provides arrays\n",
    "    - [Quickstart tutorial](https://docs.scipy.org/doc/numpy-dev/user/quickstart.html)\n",
    "    - [NumPy for matlab users](https://docs.scipy.org/doc/numpy-dev/user/numpy-for-matlab-users.html)\n",
    "- **SciPy**: Created by the same group as NumPy, but has [better array/matrix operations](https://www.scipy.org/scipylib/faq.html#what-is-the-difference-between-numpy-and-scipy). Use it for linear algebra, optimization, numeric integration, fft, basic statistics, etc.\n",
    "    - [SciPy tutorial](https://docs.scipy.org/doc/scipy/reference/tutorial/index.html)"
   ]
  },
  {
   "cell_type": "markdown",
   "metadata": {
    "slideshow": {
     "slide_type": "subslide"
    }
   },
   "source": [
    "- **Pandas**: A must-have for working with data. Provides DataFrames, which allow for column and index labels. Handles NANs like a boss. Built on NumPy arrays. Similar to R dataframes."
   ]
  },
  {
   "cell_type": "markdown",
   "metadata": {
    "slideshow": {
     "slide_type": "subslide"
    }
   },
   "source": [
    "### Machine learning and more statistics\n",
    "\n",
    "- **Scikit-learn**: Everything you need for small to medium size machine learning problems.\n",
    "- **Statsmodels**: A dedicated stats library that lets you use R-style formulas with Pandas dataframes."
   ]
  },
  {
   "cell_type": "markdown",
   "metadata": {
    "slideshow": {
     "slide_type": "subslide"
    }
   },
   "source": [
    "<img  src=\"Screen Shot 2017-01-04 at 12.52.00 PM.png\"/>"
   ]
  },
  {
   "cell_type": "markdown",
   "metadata": {
    "slideshow": {
     "slide_type": "subslide"
    }
   },
   "source": [
    "### Plotting\n",
    "Check out [this dramatic tour](https://dansaber.wordpress.com/2016/10/02/a-dramatic-tour-through-pythons-data-visualization-landscape-including-ggplot-and-altair/) through plotting with several different libraries\n",
    "\n",
    "- **Matplotlib**: The most common plotting library in Python. Created to mimic MATLAB and just as ugly. But it is flexible and lets you customize everything object on a figure.\n",
    "- **Seaborn**: Make a defined set of difficult visualizations easy. Creates matplotlib figures, so you can customize how they look.\n",
    "- **ggplot**: I've never used it, so I can't comment on how it compares to the version in R"
   ]
  }
 ],
 "metadata": {
  "anaconda-cloud": {},
  "celltoolbar": "Slideshow",
  "gist": {
   "data": {
    "description": "Python basics - RISE presentation.ipynb",
    "public": false
   },
   "id": ""
  },
  "kernelspec": {
   "display_name": "Python 2",
   "language": "python",
   "name": "python2"
  },
  "language_info": {
   "codemirror_mode": {
    "name": "ipython",
    "version": 2
   },
   "file_extension": ".py",
   "mimetype": "text/x-python",
   "name": "python",
   "nbconvert_exporter": "python",
   "pygments_lexer": "ipython2",
   "version": "2.7.12"
  },
  "nbpresent": {
   "slides": {
    "3578c62e-f00e-4acb-a116-e5dbc145eb00": {
     "id": "3578c62e-f00e-4acb-a116-e5dbc145eb00",
     "prev": "62150fa7-3729-4095-84b2-0c56ee5d74e5",
     "regions": {
      "02a73df2-b3fa-4d5a-903a-58c70333072f": {
       "attrs": {
        "height": 0.4,
        "width": 0.8,
        "x": 0.1,
        "y": 0.5
       },
       "content": {
        "cell": "ffd48fad-654b-4d07-b832-b369d3069f1b",
        "part": "whole"
       },
       "id": "02a73df2-b3fa-4d5a-903a-58c70333072f"
      },
      "1585b296-1c6c-47a0-ac41-225974362da3": {
       "attrs": {
        "height": 0.4,
        "width": 0.8,
        "x": 0.1,
        "y": 0.5
       },
       "content": {
        "cell": "64ab1401-5c4c-43b7-8c89-ea1dcca4257d",
        "part": "whole"
       },
       "id": "1585b296-1c6c-47a0-ac41-225974362da3"
      },
      "1b7b3e4a-573d-4a94-bd85-83a4ee8711de": {
       "attrs": {
        "height": 0.4,
        "width": 0.8,
        "x": 0.1,
        "y": 0.5
       },
       "content": {
        "cell": "710f736f-af7c-4e85-8ad2-d9815671a335",
        "part": "whole"
       },
       "id": "1b7b3e4a-573d-4a94-bd85-83a4ee8711de"
      },
      "2326bf25-217d-4c27-b539-02c9e7447688": {
       "attrs": {
        "height": 0.4,
        "width": 0.8,
        "x": 0.1,
        "y": 0.5
       },
       "content": {
        "cell": "074458a5-b2c7-4a17-b1b7-879dbbdd7190",
        "part": "whole"
       },
       "id": "2326bf25-217d-4c27-b539-02c9e7447688"
      },
      "2871ccff-cb2b-40af-ae14-f26b4351e2d8": {
       "attrs": {
        "height": 0.4,
        "width": 0.8,
        "x": 0.1,
        "y": 0.5
       },
       "content": {
        "cell": "250bb595-1035-4052-898e-2b7718d51519",
        "part": "whole"
       },
       "id": "2871ccff-cb2b-40af-ae14-f26b4351e2d8"
      },
      "2e133fa9-17fe-4cd1-8500-3d4309aab05a": {
       "attrs": {
        "height": 0.4,
        "width": 0.8,
        "x": 0.1,
        "y": 0.5
       },
       "content": {
        "cell": "335f2799-4e10-47d6-a242-60c6a5774ca5",
        "part": "whole"
       },
       "id": "2e133fa9-17fe-4cd1-8500-3d4309aab05a"
      },
      "34918e56-b98c-48be-a3fd-150bbd9bba83": {
       "attrs": {
        "height": 0.4,
        "width": 0.8,
        "x": 0.1,
        "y": 0.5
       },
       "content": {
        "cell": "1ec1eadf-3cec-40e9-9af3-9052dccc4486",
        "part": "whole"
       },
       "id": "34918e56-b98c-48be-a3fd-150bbd9bba83"
      },
      "419cfc82-e4f9-45b8-9691-2c589a0e5b30": {
       "attrs": {
        "height": 0.8,
        "width": 0.8,
        "x": 0.1,
        "y": 0.1
       },
       "content": {
        "cell": "6d743196-04f2-4e1d-bd94-52fe9dc7344e",
        "part": "whole"
       },
       "id": "419cfc82-e4f9-45b8-9691-2c589a0e5b30"
      },
      "4e524039-5668-4078-987e-af469808e339": {
       "attrs": {
        "height": 0.4,
        "width": 0.8,
        "x": 0.1,
        "y": 0.5
       },
       "content": {
        "cell": "832be10b-708f-4504-9414-e8691f19b3ae",
        "part": "whole"
       },
       "id": "4e524039-5668-4078-987e-af469808e339"
      },
      "50c15a81-2798-4c44-b9d5-2ee1551929f0": {
       "attrs": {
        "height": 0.4,
        "width": 0.8,
        "x": 0.1,
        "y": 0.5
       },
       "content": {
        "cell": "0cdd1757-8a48-4b1a-84bb-6e9c99ef0eab",
        "part": "whole"
       },
       "id": "50c15a81-2798-4c44-b9d5-2ee1551929f0"
      },
      "54e1ce29-bb28-4521-83ce-cfa5539554db": {
       "attrs": {
        "height": 0.4,
        "width": 0.8,
        "x": 0.1,
        "y": 0.5
       },
       "content": {
        "cell": "a675b25e-4339-4050-be39-0623b06dd60c",
        "part": "whole"
       },
       "id": "54e1ce29-bb28-4521-83ce-cfa5539554db"
      },
      "5e81de3b-0d36-4a9b-87b4-97dc54e39a11": {
       "attrs": {
        "height": 0.4,
        "width": 0.8,
        "x": 0.1,
        "y": 0.5
       },
       "content": {
        "cell": "9a139a02-f6d3-430a-8310-e8616a9903b0",
        "part": "whole"
       },
       "id": "5e81de3b-0d36-4a9b-87b4-97dc54e39a11"
      },
      "6abfdbc2-70c4-41c3-a6fe-208d1eb8ffd5": {
       "attrs": {
        "height": 0.4,
        "width": 0.8,
        "x": 0.1,
        "y": 0.5
       },
       "content": {
        "cell": "0b935349-7c6f-458f-a36e-65387f72acc5",
        "part": "whole"
       },
       "id": "6abfdbc2-70c4-41c3-a6fe-208d1eb8ffd5"
      },
      "6d878436-3aea-427b-b5eb-9bd47dc520e5": {
       "attrs": {
        "height": 0.4,
        "width": 0.8,
        "x": 0.1,
        "y": 0.5
       },
       "content": {
        "cell": "fca19fc5-ee0b-486d-9f44-03a11c627786",
        "part": "whole"
       },
       "id": "6d878436-3aea-427b-b5eb-9bd47dc520e5"
      },
      "8349a011-91de-4c78-ac39-f4c4a6e09f9a": {
       "attrs": {
        "height": 0.4,
        "width": 0.8,
        "x": 0.1,
        "y": 0.5
       },
       "content": {
        "cell": "715925bb-f243-42e7-8bad-8cc46edde207",
        "part": "whole"
       },
       "id": "8349a011-91de-4c78-ac39-f4c4a6e09f9a"
      },
      "8724a371-8992-43fa-ae8f-58e5cdce8345": {
       "attrs": {
        "height": 0.4,
        "width": 0.8,
        "x": 0.1,
        "y": 0.5
       },
       "content": {
        "cell": "345b4b0b-ef5b-41fe-9ce1-edb5f34c0da8",
        "part": "whole"
       },
       "id": "8724a371-8992-43fa-ae8f-58e5cdce8345"
      },
      "8879ab11-b761-4337-a18f-af47acbb6cb6": {
       "attrs": {
        "height": 0.4,
        "width": 0.8,
        "x": 0.1,
        "y": 0.5
       },
       "content": {
        "cell": "255005a5-b35c-4eba-a789-e263b1fe66fc",
        "part": "whole"
       },
       "id": "8879ab11-b761-4337-a18f-af47acbb6cb6"
      },
      "97cd4861-3cc4-4add-8899-9ce53a05aaad": {
       "attrs": {
        "height": 0.4,
        "width": 0.8,
        "x": 0.1,
        "y": 0.5
       },
       "content": {
        "cell": "9f77a151-2617-4bad-9a15-695c1ca92731",
        "part": "whole"
       },
       "id": "97cd4861-3cc4-4add-8899-9ce53a05aaad"
      },
      "a17e73f0-72aa-4566-99b1-870d6d3efe75": {
       "attrs": {
        "height": 0.4,
        "width": 0.8,
        "x": 0.1,
        "y": 0.5
       },
       "content": {
        "cell": "13510f3d-8643-4553-83a3-9140195bffaa",
        "part": "whole"
       },
       "id": "a17e73f0-72aa-4566-99b1-870d6d3efe75"
      },
      "a9816ea6-e4eb-47d6-853e-2fcdb05f94d5": {
       "attrs": {
        "height": 0.4,
        "width": 0.8,
        "x": 0.1,
        "y": 0.5
       },
       "content": {
        "cell": "eaebfdbd-d8ab-4c69-990e-731894840e21",
        "part": "whole"
       },
       "id": "a9816ea6-e4eb-47d6-853e-2fcdb05f94d5"
      },
      "b553550e-3071-4014-bf5b-aaa0f3bcd937": {
       "attrs": {
        "height": 0.4,
        "width": 0.8,
        "x": 0.1,
        "y": 0.5
       },
       "content": {
        "cell": "91f91afa-f4c8-4358-8ee0-20d97ffd765e",
        "part": "whole"
       },
       "id": "b553550e-3071-4014-bf5b-aaa0f3bcd937"
      },
      "b9ef2426-b49b-41e0-b162-98b0ecfbd215": {
       "attrs": {
        "height": 0.4,
        "width": 0.8,
        "x": 0.1,
        "y": 0.5
       },
       "content": {
        "cell": "bfa9ace6-9ac0-40ab-96db-6a1bf4128a3d",
        "part": "whole"
       },
       "id": "b9ef2426-b49b-41e0-b162-98b0ecfbd215"
      },
      "d75c0c77-4151-42dc-9012-ea3cfc607b73": {
       "attrs": {
        "height": 0.4,
        "width": 0.8,
        "x": 0.1,
        "y": 0.5
       },
       "content": {
        "cell": "b43f08cc-18bd-45a1-add6-4671a6dcb3f6",
        "part": "whole"
       },
       "id": "d75c0c77-4151-42dc-9012-ea3cfc607b73"
      },
      "dbeed575-d73e-4442-aa98-372e03b1445c": {
       "attrs": {
        "height": 0.4,
        "width": 0.8,
        "x": 0.1,
        "y": 0.5
       },
       "content": {
        "cell": "3d14783d-652c-47f8-919d-60786eb00e18",
        "part": "whole"
       },
       "id": "dbeed575-d73e-4442-aa98-372e03b1445c"
      },
      "f880dcb6-ffe3-4394-95f8-c6e08340739e": {
       "attrs": {
        "height": 0.4,
        "width": 0.8,
        "x": 0.1,
        "y": 0.5
       },
       "content": {
        "cell": "04f6b1b2-0c70-448c-800f-36798b0291d9",
        "part": "whole"
       },
       "id": "f880dcb6-ffe3-4394-95f8-c6e08340739e"
      },
      "f9526ddb-3a39-460c-8d14-f426dd478a78": {
       "attrs": {
        "height": 0.4,
        "width": 0.8,
        "x": 0.1,
        "y": 0.5
       },
       "content": {
        "cell": "7b10e496-3399-47ba-8d3d-bc9a4034e96f",
        "part": "whole"
       },
       "id": "f9526ddb-3a39-460c-8d14-f426dd478a78"
      }
     }
    },
    "62150fa7-3729-4095-84b2-0c56ee5d74e5": {
     "id": "62150fa7-3729-4095-84b2-0c56ee5d74e5",
     "prev": null,
     "regions": {
      "99c01749-ec09-400f-9274-379a9bc8fad7": {
       "attrs": {
        "height": 0.8,
        "width": 0.8,
        "x": 0.1,
        "y": 0.1
       },
       "content": {
        "cell": "02da5299-f678-4cdc-b29e-a6b8e74be98c",
        "part": "whole"
       },
       "id": "99c01749-ec09-400f-9274-379a9bc8fad7"
      }
     }
    }
   },
   "themes": {
    "default": "29aac02a-7157-43c7-8d31-cb7f0a6c8f39",
    "theme": {
     "29aac02a-7157-43c7-8d31-cb7f0a6c8f39": {
      "id": "29aac02a-7157-43c7-8d31-cb7f0a6c8f39",
      "palette": {
       "19cc588f-0593-49c9-9f4b-e4d7cc113b1c": {
        "id": "19cc588f-0593-49c9-9f4b-e4d7cc113b1c",
        "rgb": [
         252,
         252,
         252
        ]
       },
       "31af15d2-7e15-44c5-ab5e-e04b16a89eff": {
        "id": "31af15d2-7e15-44c5-ab5e-e04b16a89eff",
        "rgb": [
         68,
         68,
         68
        ]
       },
       "50f92c45-a630-455b-aec3-788680ec7410": {
        "id": "50f92c45-a630-455b-aec3-788680ec7410",
        "rgb": [
         155,
         177,
         192
        ]
       },
       "c5cc3653-2ee1-402a-aba2-7caae1da4f6c": {
        "id": "c5cc3653-2ee1-402a-aba2-7caae1da4f6c",
        "rgb": [
         43,
         126,
         184
        ]
       },
       "efa7f048-9acb-414c-8b04-a26811511a21": {
        "id": "efa7f048-9acb-414c-8b04-a26811511a21",
        "rgb": [
         25.118061674008803,
         73.60176211453744,
         107.4819383259912
        ]
       }
      },
      "rules": {
       "blockquote": {
        "color": "50f92c45-a630-455b-aec3-788680ec7410"
       },
       "code": {
        "font-family": "Anonymous Pro"
       },
       "h1": {
        "color": "c5cc3653-2ee1-402a-aba2-7caae1da4f6c",
        "font-family": "Lato",
        "font-size": 8
       },
       "h2": {
        "color": "c5cc3653-2ee1-402a-aba2-7caae1da4f6c",
        "font-family": "Lato",
        "font-size": 6
       },
       "h3": {
        "color": "50f92c45-a630-455b-aec3-788680ec7410",
        "font-family": "Lato",
        "font-size": 5.5
       },
       "h4": {
        "color": "c5cc3653-2ee1-402a-aba2-7caae1da4f6c",
        "font-family": "Lato",
        "font-size": 5
       },
       "h5": {
        "font-family": "Lato"
       },
       "h6": {
        "font-family": "Lato"
       },
       "h7": {
        "font-family": "Lato"
       },
       "pre": {
        "font-family": "Anonymous Pro",
        "font-size": 4
       }
      },
      "text-base": {
       "font-family": "Merriweather",
       "font-size": 4
      }
     },
     "acba5542-52ad-4e39-93c3-89cda6f6b38f": {
      "backgrounds": {
       "dc7afa04-bf90-40b1-82a5-726e3cff5267": {
        "background-color": "31af15d2-7e15-44c5-ab5e-e04b16a89eff",
        "id": "dc7afa04-bf90-40b1-82a5-726e3cff5267"
       }
      },
      "id": "acba5542-52ad-4e39-93c3-89cda6f6b38f",
      "palette": {
       "19cc588f-0593-49c9-9f4b-e4d7cc113b1c": {
        "id": "19cc588f-0593-49c9-9f4b-e4d7cc113b1c",
        "rgb": [
         252,
         252,
         252
        ]
       },
       "31af15d2-7e15-44c5-ab5e-e04b16a89eff": {
        "id": "31af15d2-7e15-44c5-ab5e-e04b16a89eff",
        "rgb": [
         68,
         68,
         68
        ]
       },
       "50f92c45-a630-455b-aec3-788680ec7410": {
        "id": "50f92c45-a630-455b-aec3-788680ec7410",
        "rgb": [
         197,
         226,
         245
        ]
       },
       "c5cc3653-2ee1-402a-aba2-7caae1da4f6c": {
        "id": "c5cc3653-2ee1-402a-aba2-7caae1da4f6c",
        "rgb": [
         43,
         126,
         184
        ]
       },
       "efa7f048-9acb-414c-8b04-a26811511a21": {
        "id": "efa7f048-9acb-414c-8b04-a26811511a21",
        "rgb": [
         25.118061674008803,
         73.60176211453744,
         107.4819383259912
        ]
       }
      },
      "rules": {
       "a": {
        "color": "19cc588f-0593-49c9-9f4b-e4d7cc113b1c"
       },
       "blockquote": {
        "color": "50f92c45-a630-455b-aec3-788680ec7410",
        "font-size": 3
       },
       "code": {
        "font-family": "Anonymous Pro"
       },
       "h1": {
        "color": "19cc588f-0593-49c9-9f4b-e4d7cc113b1c",
        "font-family": "Merriweather",
        "font-size": 8
       },
       "h2": {
        "color": "19cc588f-0593-49c9-9f4b-e4d7cc113b1c",
        "font-family": "Merriweather",
        "font-size": 6
       },
       "h3": {
        "color": "50f92c45-a630-455b-aec3-788680ec7410",
        "font-family": "Lato",
        "font-size": 5.5
       },
       "h4": {
        "color": "c5cc3653-2ee1-402a-aba2-7caae1da4f6c",
        "font-family": "Lato",
        "font-size": 5
       },
       "h5": {
        "font-family": "Lato"
       },
       "h6": {
        "font-family": "Lato"
       },
       "h7": {
        "font-family": "Lato"
       },
       "li": {
        "color": "50f92c45-a630-455b-aec3-788680ec7410",
        "font-size": 3.25
       },
       "pre": {
        "font-family": "Anonymous Pro",
        "font-size": 4
       }
      },
      "text-base": {
       "color": "19cc588f-0593-49c9-9f4b-e4d7cc113b1c",
       "font-family": "Lato",
       "font-size": 4
      }
     }
    }
   }
  },
  "widgets": {
   "state": {},
   "version": "1.1.2"
  }
 },
 "nbformat": 4,
 "nbformat_minor": 1
}
