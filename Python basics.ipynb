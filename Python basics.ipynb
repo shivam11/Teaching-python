{
 "cells": [
  {
   "cell_type": "markdown",
   "metadata": {
    "nbpresent": {
     "id": "02da5299-f678-4cdc-b29e-a6b8e74be98c"
    },
    "slideshow": {
     "slide_type": "slide"
    }
   },
   "source": [
    "# Some Python Basics\n",
    "\n",
    "## Greg Schivley\n",
    "\n",
    "### Most material taken from the [Whirlwind Tour of Python](https://nbviewer.jupyter.org/github/jakevdp/WhirlwindTourOfPython/tree/master/)"
   ]
  },
  {
   "cell_type": "markdown",
   "metadata": {
    "nbpresent": {
     "id": "6d743196-04f2-4e1d-bd94-52fe9dc7344e"
    },
    "slideshow": {
     "slide_type": "slide"
    }
   },
   "source": [
    "## Python Variables Are Pointers\n",
    "\n"
   ]
  },
  {
   "cell_type": "markdown",
   "metadata": {
    "nbpresent": {
     "id": "1ec1eadf-3cec-40e9-9af3-9052dccc4486"
    },
    "slideshow": {
     "slide_type": "fragment"
    }
   },
   "source": [
    "Assigning variables in Python is as easy as putting a variable name to the left of the equals (=) sign."
   ]
  },
  {
   "cell_type": "code",
   "execution_count": 1,
   "metadata": {
    "collapsed": false,
    "nbpresent": {
     "id": "250bb595-1035-4052-898e-2b7718d51519"
    },
    "slideshow": {
     "slide_type": "fragment"
    }
   },
   "outputs": [
    {
     "name": "stdout",
     "output_type": "stream",
     "text": [
      "4 <type 'int'>\n",
      "hello <type 'str'>\n"
     ]
    }
   ],
   "source": [
    "# assign 4 to the variable x\n",
    "x = 4\n",
    "print x, type(x)\n",
    "x = 'hello'\n",
    "print x, type(x)"
   ]
  },
  {
   "cell_type": "code",
   "execution_count": 3,
   "metadata": {
    "collapsed": false,
    "nbpresent": {
     "id": "345b4b0b-ef5b-41fe-9ce1-edb5f34c0da8"
    }
   },
   "outputs": [
    {
     "data": {
      "text/plain": [
       "[1, 2, 3]"
      ]
     },
     "execution_count": 3,
     "metadata": {},
     "output_type": "execute_result"
    }
   ],
   "source": [
    "x = 1         # x is an integer\n",
    "x = 'hello'   # now x is a string\n",
    "x = [1, 2, 3] # now x is a list\n",
    "x"
   ]
  },
  {
   "cell_type": "markdown",
   "metadata": {
    "nbpresent": {
     "id": "eaebfdbd-d8ab-4c69-990e-731894840e21"
    }
   },
   "source": [
    "Two variables can point to the same object. Be careful, as this can lead to unanticipated consequences!"
   ]
  },
  {
   "cell_type": "code",
   "execution_count": 15,
   "metadata": {
    "collapsed": false,
    "nbpresent": {
     "id": "ffd48fad-654b-4d07-b832-b369d3069f1b"
    }
   },
   "outputs": [
    {
     "name": "stdout",
     "output_type": "stream",
     "text": [
      "[1, 2, 3]\n"
     ]
    }
   ],
   "source": [
    "x = [1, 2, 3]\n",
    "y = x\n",
    "print y\n",
    "\n",
    "#x.append(4)\n",
    "#print y"
   ]
  },
  {
   "cell_type": "markdown",
   "metadata": {
    "nbpresent": {
     "id": "710f736f-af7c-4e85-8ad2-d9815671a335"
    }
   },
   "source": [
    "Fortunately simple objects are *immutable* - you can't change the value of \"10\", but you can point a variable to a different value"
   ]
  },
  {
   "cell_type": "code",
   "execution_count": 19,
   "metadata": {
    "collapsed": false,
    "nbpresent": {
     "id": "9f77a151-2617-4bad-9a15-695c1ca92731"
    }
   },
   "outputs": [
    {
     "name": "stdout",
     "output_type": "stream",
     "text": [
      "x = 15\n",
      "y = 10\n"
     ]
    }
   ],
   "source": [
    "x = 10\n",
    "y = x\n",
    "# add 5 to x's value, \n",
    "# and assign it to x\n",
    "x += 5  \n",
    "print \"x =\", x\n",
    "print \"y =\", y"
   ]
  },
  {
   "cell_type": "code",
   "execution_count": 16,
   "metadata": {
    "collapsed": true
   },
   "outputs": [],
   "source": [
    "x = x + [4]"
   ]
  },
  {
   "cell_type": "code",
   "execution_count": 17,
   "metadata": {
    "collapsed": false
   },
   "outputs": [
    {
     "data": {
      "text/plain": [
       "[1, 2, 3, 4]"
      ]
     },
     "execution_count": 17,
     "metadata": {},
     "output_type": "execute_result"
    }
   ],
   "source": [
    "x"
   ]
  },
  {
   "cell_type": "code",
   "execution_count": 18,
   "metadata": {
    "collapsed": false
   },
   "outputs": [
    {
     "data": {
      "text/plain": [
       "[1, 2, 3]"
      ]
     },
     "execution_count": 18,
     "metadata": {},
     "output_type": "execute_result"
    }
   ],
   "source": [
    "y"
   ]
  },
  {
   "cell_type": "markdown",
   "metadata": {
    "nbpresent": {
     "id": "a675b25e-4339-4050-be39-0623b06dd60c"
    }
   },
   "source": [
    "A little off-topic, but Python 3 does away with int/float division issues"
   ]
  },
  {
   "cell_type": "code",
   "execution_count": 37,
   "metadata": {
    "collapsed": false,
    "nbpresent": {
     "id": "b43f08cc-18bd-45a1-add6-4671a6dcb3f6"
    }
   },
   "outputs": [
    {
     "data": {
      "text/plain": [
       "1.5"
      ]
     },
     "execution_count": 37,
     "metadata": {},
     "output_type": "execute_result"
    }
   ],
   "source": [
    "# from __future__ import division\n",
    "3/2"
   ]
  },
  {
   "cell_type": "markdown",
   "metadata": {
    "nbpresent": {
     "id": "9a139a02-f6d3-430a-8310-e8616a9903b0"
    }
   },
   "source": [
    "## Types of objects (data structures)"
   ]
  },
  {
   "cell_type": "markdown",
   "metadata": {},
   "source": [
    "Common basic Python objects include:\n",
    "- Simple objects like ints, floats, strings, etc\n",
    "- Lists\n",
    "- Sets\n",
    "- Dictionaries\n",
    "- Tuples"
   ]
  },
  {
   "cell_type": "markdown",
   "metadata": {
    "nbpresent": {
     "id": "3d14783d-652c-47f8-919d-60786eb00e18"
    }
   },
   "source": [
    "| Type Name | Example                   |Description                            |\n",
    "|-----------|---------------------------|---------------------------------------|\n",
    "| ``list``  | ``[1, 2, 3]``             | Ordered collection                    |\n",
    "| ``tuple`` | ``(1, 2, 3)``             | Immutable ordered collection          |\n",
    "| ``dict``  | ``{'a':1, 'b':2, 'c':3}`` | Unordered (key,value) mapping         |\n",
    "| ``set``   | ``{1, 2, 3}``             | Unordered collection of unique values |"
   ]
  },
  {
   "cell_type": "markdown",
   "metadata": {
    "nbpresent": {
     "id": "7b10e496-3399-47ba-8d3d-bc9a4034e96f"
    }
   },
   "source": [
    "## Lists"
   ]
  },
  {
   "cell_type": "markdown",
   "metadata": {
    "nbpresent": {
     "id": "335f2799-4e10-47d6-a242-60c6a5774ca5"
    }
   },
   "source": [
    "Some basic list operations"
   ]
  },
  {
   "cell_type": "code",
   "execution_count": 29,
   "metadata": {
    "collapsed": false,
    "nbpresent": {
     "id": "13510f3d-8643-4553-83a3-9140195bffaa"
    }
   },
   "outputs": [
    {
     "name": "stdout",
     "output_type": "stream",
     "text": [
      "[2, 3, 5, 7]\n",
      "4\n"
     ]
    }
   ],
   "source": [
    "L = [2, 3, 5, 7]\n",
    "print L\n",
    "print len(L)"
   ]
  },
  {
   "cell_type": "code",
   "execution_count": 30,
   "metadata": {
    "collapsed": false,
    "nbpresent": {
     "id": "bfa9ace6-9ac0-40ab-96db-6a1bf4128a3d"
    }
   },
   "outputs": [
    {
     "data": {
      "text/plain": [
       "[2, 3, 5, 7, 13, 17, 19, ['a', 'b']]"
      ]
     },
     "execution_count": 30,
     "metadata": {},
     "output_type": "execute_result"
    }
   ],
   "source": [
    "# Addition concatenates lists\n",
    "L + [13, 17, 19, ['a', 'b']]"
   ]
  },
  {
   "cell_type": "markdown",
   "metadata": {
    "nbpresent": {
     "id": "0b935349-7c6f-458f-a36e-65387f72acc5"
    }
   },
   "source": [
    "## List indexing and slicing"
   ]
  },
  {
   "cell_type": "markdown",
   "metadata": {
    "nbpresent": {
     "id": "0cdd1757-8a48-4b1a-84bb-6e9c99ef0eab"
    }
   },
   "source": [
    "Python provides access to elements through indexing (single elements), and slicing (multiple elements). \n",
    "\n",
    "Both are indicated by a square-bracket syntax."
   ]
  },
  {
   "cell_type": "code",
   "execution_count": 33,
   "metadata": {
    "collapsed": false,
    "nbpresent": {
     "id": "715925bb-f243-42e7-8bad-8cc46edde207"
    }
   },
   "outputs": [
    {
     "data": {
      "text/plain": [
       "[2, 3, 5, 7, 11]"
      ]
     },
     "execution_count": 33,
     "metadata": {},
     "output_type": "execute_result"
    }
   ],
   "source": [
    "L = [2, 3, 5, 7, 11]\n",
    "L"
   ]
  },
  {
   "cell_type": "code",
   "execution_count": 35,
   "metadata": {
    "collapsed": false,
    "nbpresent": {
     "id": "04f6b1b2-0c70-448c-800f-36798b0291d9"
    }
   },
   "outputs": [
    {
     "data": {
      "text/plain": [
       "11"
      ]
     },
     "execution_count": 35,
     "metadata": {},
     "output_type": "execute_result"
    }
   ],
   "source": [
    "L[-1]"
   ]
  },
  {
   "cell_type": "code",
   "execution_count": null,
   "metadata": {
    "collapsed": true
   },
   "outputs": [],
   "source": []
  },
  {
   "cell_type": "code",
   "execution_count": null,
   "metadata": {
    "collapsed": true
   },
   "outputs": [],
   "source": []
  }
 ],
 "metadata": {
  "anaconda-cloud": {},
  "celltoolbar": "Slideshow",
  "kernelspec": {
   "display_name": "Python [conda root]",
   "language": "python",
   "name": "conda-root-py"
  },
  "language_info": {
   "codemirror_mode": {
    "name": "ipython",
    "version": 2
   },
   "file_extension": ".py",
   "mimetype": "text/x-python",
   "name": "python",
   "nbconvert_exporter": "python",
   "pygments_lexer": "ipython2",
   "version": "2.7.12"
  },
  "nbpresent": {
   "slides": {
    "2319d83c-94fc-4fb8-b03f-5b6e7c912f99": {
     "id": "2319d83c-94fc-4fb8-b03f-5b6e7c912f99",
     "layout": "manual",
     "prev": "2cd10af5-1279-47d7-931a-4a16739b48f9",
     "regions": {
      "0bb0978d-9239-4ad9-9088-e68a99aefff9": {
       "attrs": {
        "height": 0.42478053674441946,
        "width": 0.6408577878103838,
        "x": 0.35169300225733635,
        "y": 0.5635063957863055
       },
       "content": {
        "cell": "bfa9ace6-9ac0-40ab-96db-6a1bf4128a3d",
        "part": "whole"
       },
       "id": "0bb0978d-9239-4ad9-9088-e68a99aefff9"
      },
      "4aa50742-8606-4e8d-aa51-3b550fde2c4f": {
       "attrs": {
        "height": 0.6873051784816491,
        "pad": 0.01,
        "treemap:weight": 1.25,
        "width": 0.33791315813131156,
        "x": 0,
        "y": 0.31269482151835093
       },
       "content": {
        "cell": "335f2799-4e10-47d6-a242-60c6a5774ca5",
        "part": "source"
       },
       "id": "4aa50742-8606-4e8d-aa51-3b550fde2c4f"
      },
      "609a4941-833a-44c4-bb57-d89bf97c2cf1": {
       "attrs": {
        "height": 0.5368713590662868,
        "pad": 0.01,
        "treemap:weight": 0.49999999999999895,
        "width": 0.6490519712724622,
        "x": 0.3483637361113769,
        "y": 0.006042261785191043
       },
       "content": {
        "cell": "13510f3d-8643-4553-83a3-9140195bffaa",
        "part": "whole"
       },
       "id": "609a4941-833a-44c4-bb57-d89bf97c2cf1",
       "treemap:weight": 0.5
      },
      "6eb6ff2b-3842-4062-9a1f-feccfbdfb5bb": {
       "attrs": {
        "height": 0.2845399698340875,
        "pad": 0.01,
        "treemap:weight": 1,
        "width": 0.329641683667376,
        "x": 0.004208144796380057,
        "y": 0.008044243338360985
       },
       "content": {
        "cell": "7b10e496-3399-47ba-8d3d-bc9a4034e96f",
        "part": "source"
       },
       "id": "6eb6ff2b-3842-4062-9a1f-feccfbdfb5bb"
      }
     },
     "theme": null
    },
    "2cd10af5-1279-47d7-931a-4a16739b48f9": {
     "id": "2cd10af5-1279-47d7-931a-4a16739b48f9",
     "layout": "manual",
     "prev": "e8bef576-6ff3-4c14-8625-5c6171049c75",
     "regions": {
      "5d81a3b4-49e0-4add-9e7d-bbec4dc91724": {
       "attrs": {
        "height": 0.9562342885872299,
        "pad": 0.01,
        "treemap:weight": 0.49999999999999895,
        "width": 0.46914027149321275,
        "x": 0.5260180995475112,
        "y": 0.010055304172951232
       },
       "content": {
        "cell": "b43f08cc-18bd-45a1-add6-4671a6dcb3f6",
        "part": "whole"
       },
       "id": "5d81a3b4-49e0-4add-9e7d-bbec4dc91724",
       "treemap:weight": 0.5
      },
      "8e472c0f-9e25-461a-a154-274bc9b86df4": {
       "attrs": {
        "height": 0.2845399698340875,
        "pad": 0.01,
        "treemap:weight": 1,
        "width": 0.49520459757466073,
        "x": 0.004208144796380057,
        "y": 0.008044243338360985
       },
       "content": {
        "cell": "6d743196-04f2-4e1d-bd94-52fe9dc7344e",
        "part": "source"
       },
       "id": "8e472c0f-9e25-461a-a154-274bc9b86df4"
      },
      "c62823f7-203f-4a42-8b4d-be1f51ce68d5": {
       "attrs": {
        "height": 0.6873051784816491,
        "pad": 0.01,
        "treemap:weight": 1.25,
        "width": 0.5067873303167421,
        "x": 0,
        "y": 0.31269482151835093
       },
       "content": {
        "cell": "a675b25e-4339-4050-be39-0623b06dd60c",
        "part": "source"
       },
       "id": "c62823f7-203f-4a42-8b4d-be1f51ce68d5"
      }
     },
     "theme": null
    },
    "307cedb8-6b02-49ad-a2ff-af46e22c03e7": {
     "id": "307cedb8-6b02-49ad-a2ff-af46e22c03e7",
     "prev": null,
     "regions": {
      "17e0bdb9-1313-4b0b-b1e1-2dda2f2ed3ba": {
       "attrs": {
        "height": 0.8,
        "width": 0.8,
        "x": 0.1,
        "y": 0.1
       },
       "content": {
        "cell": "02da5299-f678-4cdc-b29e-a6b8e74be98c",
        "part": "source"
       },
       "id": "17e0bdb9-1313-4b0b-b1e1-2dda2f2ed3ba"
      }
     }
    },
    "693a4757-f437-4977-95bc-ecf00a835ead": {
     "id": "693a4757-f437-4977-95bc-ecf00a835ead",
     "layout": "manual",
     "prev": "8ae0cae5-128d-4183-a9e5-d19b420d6e54",
     "regions": {
      "3e38c52d-6a6c-4483-a034-e45b264d5c20": {
       "attrs": {
        "height": 0.6873051784816491,
        "pad": 0.01,
        "treemap:weight": 1.25,
        "width": 0.5067873303167421,
        "x": 0,
        "y": 0.31269482151835093
       },
       "content": {
        "cell": "eaebfdbd-d8ab-4c69-990e-731894840e21",
        "part": "source"
       },
       "id": "3e38c52d-6a6c-4483-a034-e45b264d5c20"
      },
      "81192f95-e952-4aca-b440-fc27b1f1207d": {
       "attrs": {
        "height": 0.9562342885872299,
        "pad": 0.01,
        "treemap:weight": 0.49999999999999895,
        "width": 0.46914027149321275,
        "x": 0.5260180995475112,
        "y": 0.010055304172951232
       },
       "content": {
        "cell": "ffd48fad-654b-4d07-b832-b369d3069f1b",
        "part": "whole"
       },
       "id": "81192f95-e952-4aca-b440-fc27b1f1207d",
       "treemap:weight": 0.5
      },
      "9b371c6c-13fe-49a0-b49e-227d8b975f82": {
       "attrs": {
        "height": 0.2845399698340875,
        "pad": 0.01,
        "treemap:weight": 1,
        "width": 0.49520459757466073,
        "x": 0.004208144796380057,
        "y": 0.008044243338360985
       },
       "content": {
        "cell": "6d743196-04f2-4e1d-bd94-52fe9dc7344e",
        "part": "source"
       },
       "id": "9b371c6c-13fe-49a0-b49e-227d8b975f82"
      }
     },
     "theme": null
    },
    "8ae0cae5-128d-4183-a9e5-d19b420d6e54": {
     "id": "8ae0cae5-128d-4183-a9e5-d19b420d6e54",
     "layout": "manual",
     "prev": "307cedb8-6b02-49ad-a2ff-af46e22c03e7",
     "regions": {
      "13a38d68-67ea-4abb-ae48-3bbdcca5d3b2": {
       "attrs": {
        "height": 0.6873051784816491,
        "pad": 0.01,
        "treemap:weight": 1.25,
        "width": 0.5067873303167421,
        "x": 0,
        "y": 0.31269482151835093
       },
       "content": {
        "cell": "1ec1eadf-3cec-40e9-9af3-9052dccc4486",
        "part": "source"
       },
       "id": "13a38d68-67ea-4abb-ae48-3bbdcca5d3b2"
      },
      "da3c8d70-aa99-43e6-bd3b-a82b98375085": {
       "attrs": {
        "height": 0.9562342885872299,
        "pad": 0.01,
        "treemap:weight": 0.49999999999999895,
        "width": 0.46914027149321275,
        "x": 0.5260180995475112,
        "y": 0.010055304172951232
       },
       "content": {
        "cell": "250bb595-1035-4052-898e-2b7718d51519",
        "part": "whole"
       },
       "id": "da3c8d70-aa99-43e6-bd3b-a82b98375085",
       "treemap:weight": 0.5
      },
      "fd631820-fc70-48b6-9f25-7855846f0be5": {
       "attrs": {
        "height": 0.2845399698340875,
        "pad": 0.01,
        "treemap:weight": 1,
        "width": 0.49520459757466073,
        "x": 0.004208144796380057,
        "y": 0.008044243338360985
       },
       "content": {
        "cell": "6d743196-04f2-4e1d-bd94-52fe9dc7344e",
        "part": "source"
       },
       "id": "fd631820-fc70-48b6-9f25-7855846f0be5"
      }
     },
     "theme": null
    },
    "bcdd039c-ea6c-4428-bab6-3e712d9be64c": {
     "id": "bcdd039c-ea6c-4428-bab6-3e712d9be64c",
     "layout": "manual",
     "prev": "2319d83c-94fc-4fb8-b03f-5b6e7c912f99",
     "regions": {
      "5c0650aa-d860-49fc-8d6f-e480efb352d2": {
       "attrs": {
        "height": 0.6069025083400752,
        "width": 0.6141296772113054,
        "x": 0.3784211128564147,
        "y": 0.3797370511447016
       },
       "content": {
        "cell": "04f6b1b2-0c70-448c-800f-36798b0291d9",
        "part": "whole"
       },
       "id": "5c0650aa-d860-49fc-8d6f-e480efb352d2"
      },
      "65f13d01-90da-4215-b155-ce5835d96042": {
       "attrs": {
        "height": 0.3296867308290269,
        "pad": 0.01,
        "treemap:weight": 0.49999999999999895,
        "width": 0.6149505887839829,
        "x": 0.38246511859985616,
        "y": 0.006042261785191043
       },
       "content": {
        "cell": "715925bb-f243-42e7-8bad-8cc46edde207",
        "part": "whole"
       },
       "id": "65f13d01-90da-4215-b155-ce5835d96042",
       "treemap:weight": 0.5
      },
      "bdea8d47-af6c-4d26-9039-b1f2a8b12b71": {
       "attrs": {
        "height": 0.6873051784816491,
        "pad": 0.01,
        "treemap:weight": 1.25,
        "width": 0.33791315813131156,
        "x": 0,
        "y": 0.31269482151835093
       },
       "content": {
        "cell": "0cdd1757-8a48-4b1a-84bb-6e9c99ef0eab",
        "part": "source"
       },
       "id": "bdea8d47-af6c-4d26-9039-b1f2a8b12b71"
      },
      "cc36aa72-2ecc-45a9-9704-859f54da041a": {
       "attrs": {
        "height": 0.2845399698340875,
        "pad": 0.01,
        "treemap:weight": 1,
        "width": 0.329641683667376,
        "x": 0.004208144796380057,
        "y": 0.008044243338360985
       },
       "content": {
        "cell": "0b935349-7c6f-458f-a36e-65387f72acc5",
        "part": "source"
       },
       "id": "cc36aa72-2ecc-45a9-9704-859f54da041a"
      }
     },
     "theme": null
    },
    "e8bef576-6ff3-4c14-8625-5c6171049c75": {
     "id": "e8bef576-6ff3-4c14-8625-5c6171049c75",
     "layout": "manual",
     "prev": "693a4757-f437-4977-95bc-ecf00a835ead",
     "regions": {
      "4b9ea296-17de-4653-ab68-868aedba3e3a": {
       "attrs": {
        "height": 0.6873051784816491,
        "pad": 0.01,
        "treemap:weight": 1.25,
        "width": 0.5067873303167421,
        "x": 0,
        "y": 0.31269482151835093
       },
       "content": {
        "cell": "710f736f-af7c-4e85-8ad2-d9815671a335",
        "part": "source"
       },
       "id": "4b9ea296-17de-4653-ab68-868aedba3e3a"
      },
      "86ed1031-2537-4eec-ba87-70fa3c9b8296": {
       "attrs": {
        "height": 0.9562342885872299,
        "pad": 0.01,
        "treemap:weight": 0.49999999999999895,
        "width": 0.46914027149321275,
        "x": 0.5260180995475112,
        "y": 0.010055304172951232
       },
       "content": {
        "cell": "9f77a151-2617-4bad-9a15-695c1ca92731",
        "part": "whole"
       },
       "id": "86ed1031-2537-4eec-ba87-70fa3c9b8296",
       "treemap:weight": 0.5
      },
      "9898cf81-8bf1-4480-b7c2-707aea5717f9": {
       "attrs": {
        "height": 0.2845399698340875,
        "pad": 0.01,
        "treemap:weight": 1,
        "width": 0.49520459757466073,
        "x": 0.004208144796380057,
        "y": 0.008044243338360985
       },
       "content": {
        "cell": "6d743196-04f2-4e1d-bd94-52fe9dc7344e",
        "part": "source"
       },
       "id": "9898cf81-8bf1-4480-b7c2-707aea5717f9"
      }
     },
     "theme": null
    },
    "ffb2b44f-5007-4e8e-a3ae-663458eff405": {
     "id": "ffb2b44f-5007-4e8e-a3ae-663458eff405",
     "layout": "manual",
     "prev": "bcdd039c-ea6c-4428-bab6-3e712d9be64c",
     "regions": {
      "8d79e827-c49c-412f-b316-ddd248b66801": {
       "attrs": {
        "height": 0.6873051784816491,
        "pad": 0.01,
        "treemap:weight": 1.25,
        "width": 0.9864384931074398,
        "x": 0,
        "y": 0.31269482151835093
       },
       "content": {
        "cell": "3d14783d-652c-47f8-919d-60786eb00e18",
        "part": "source"
       },
       "id": "8d79e827-c49c-412f-b316-ddd248b66801"
      },
      "a2433873-2629-4dc0-bbb6-00b0154f9718": {
       "attrs": {
        "height": 0.2845399698340875,
        "pad": 0.01,
        "treemap:weight": 1,
        "width": 0.4952045975746607,
        "x": 0.004208144796380057,
        "y": 0.008044243338360985
       },
       "content": {
        "cell": "9a139a02-f6d3-430a-8310-e8616a9903b0",
        "part": "source"
       },
       "id": "a2433873-2629-4dc0-bbb6-00b0154f9718"
      }
     },
     "theme": null
    }
   },
   "themes": {
    "default": "29aac02a-7157-43c7-8d31-cb7f0a6c8f39",
    "theme": {
     "29aac02a-7157-43c7-8d31-cb7f0a6c8f39": {
      "id": "29aac02a-7157-43c7-8d31-cb7f0a6c8f39",
      "palette": {
       "19cc588f-0593-49c9-9f4b-e4d7cc113b1c": {
        "id": "19cc588f-0593-49c9-9f4b-e4d7cc113b1c",
        "rgb": [
         252,
         252,
         252
        ]
       },
       "31af15d2-7e15-44c5-ab5e-e04b16a89eff": {
        "id": "31af15d2-7e15-44c5-ab5e-e04b16a89eff",
        "rgb": [
         68,
         68,
         68
        ]
       },
       "50f92c45-a630-455b-aec3-788680ec7410": {
        "id": "50f92c45-a630-455b-aec3-788680ec7410",
        "rgb": [
         155,
         177,
         192
        ]
       },
       "c5cc3653-2ee1-402a-aba2-7caae1da4f6c": {
        "id": "c5cc3653-2ee1-402a-aba2-7caae1da4f6c",
        "rgb": [
         43,
         126,
         184
        ]
       },
       "efa7f048-9acb-414c-8b04-a26811511a21": {
        "id": "efa7f048-9acb-414c-8b04-a26811511a21",
        "rgb": [
         25.118061674008803,
         73.60176211453744,
         107.4819383259912
        ]
       }
      },
      "rules": {
       "blockquote": {
        "color": "50f92c45-a630-455b-aec3-788680ec7410"
       },
       "code": {
        "font-family": "Anonymous Pro"
       },
       "h1": {
        "color": "c5cc3653-2ee1-402a-aba2-7caae1da4f6c",
        "font-family": "Lato",
        "font-size": 8
       },
       "h2": {
        "color": "c5cc3653-2ee1-402a-aba2-7caae1da4f6c",
        "font-family": "Lato",
        "font-size": 6
       },
       "h3": {
        "color": "50f92c45-a630-455b-aec3-788680ec7410",
        "font-family": "Lato",
        "font-size": 5.5
       },
       "h4": {
        "color": "c5cc3653-2ee1-402a-aba2-7caae1da4f6c",
        "font-family": "Lato",
        "font-size": 5
       },
       "h5": {
        "font-family": "Lato"
       },
       "h6": {
        "font-family": "Lato"
       },
       "h7": {
        "font-family": "Lato"
       },
       "pre": {
        "font-family": "Anonymous Pro",
        "font-size": 4
       }
      },
      "text-base": {
       "font-family": "Merriweather",
       "font-size": 4
      }
     },
     "acba5542-52ad-4e39-93c3-89cda6f6b38f": {
      "backgrounds": {
       "dc7afa04-bf90-40b1-82a5-726e3cff5267": {
        "background-color": "31af15d2-7e15-44c5-ab5e-e04b16a89eff",
        "id": "dc7afa04-bf90-40b1-82a5-726e3cff5267"
       }
      },
      "id": "acba5542-52ad-4e39-93c3-89cda6f6b38f",
      "palette": {
       "19cc588f-0593-49c9-9f4b-e4d7cc113b1c": {
        "id": "19cc588f-0593-49c9-9f4b-e4d7cc113b1c",
        "rgb": [
         252,
         252,
         252
        ]
       },
       "31af15d2-7e15-44c5-ab5e-e04b16a89eff": {
        "id": "31af15d2-7e15-44c5-ab5e-e04b16a89eff",
        "rgb": [
         68,
         68,
         68
        ]
       },
       "50f92c45-a630-455b-aec3-788680ec7410": {
        "id": "50f92c45-a630-455b-aec3-788680ec7410",
        "rgb": [
         197,
         226,
         245
        ]
       },
       "c5cc3653-2ee1-402a-aba2-7caae1da4f6c": {
        "id": "c5cc3653-2ee1-402a-aba2-7caae1da4f6c",
        "rgb": [
         43,
         126,
         184
        ]
       },
       "efa7f048-9acb-414c-8b04-a26811511a21": {
        "id": "efa7f048-9acb-414c-8b04-a26811511a21",
        "rgb": [
         25.118061674008803,
         73.60176211453744,
         107.4819383259912
        ]
       }
      },
      "rules": {
       "a": {
        "color": "19cc588f-0593-49c9-9f4b-e4d7cc113b1c"
       },
       "blockquote": {
        "color": "50f92c45-a630-455b-aec3-788680ec7410",
        "font-size": 3
       },
       "code": {
        "font-family": "Anonymous Pro"
       },
       "h1": {
        "color": "19cc588f-0593-49c9-9f4b-e4d7cc113b1c",
        "font-family": "Merriweather",
        "font-size": 8
       },
       "h2": {
        "color": "19cc588f-0593-49c9-9f4b-e4d7cc113b1c",
        "font-family": "Merriweather",
        "font-size": 6
       },
       "h3": {
        "color": "50f92c45-a630-455b-aec3-788680ec7410",
        "font-family": "Lato",
        "font-size": 5.5
       },
       "h4": {
        "color": "c5cc3653-2ee1-402a-aba2-7caae1da4f6c",
        "font-family": "Lato",
        "font-size": 5
       },
       "h5": {
        "font-family": "Lato"
       },
       "h6": {
        "font-family": "Lato"
       },
       "h7": {
        "font-family": "Lato"
       },
       "li": {
        "color": "50f92c45-a630-455b-aec3-788680ec7410",
        "font-size": 3.25
       },
       "pre": {
        "font-family": "Anonymous Pro",
        "font-size": 4
       }
      },
      "text-base": {
       "color": "19cc588f-0593-49c9-9f4b-e4d7cc113b1c",
       "font-family": "Lato",
       "font-size": 4
      }
     }
    }
   }
  },
  "widgets": {
   "state": {},
   "version": "1.1.2"
  }
 },
 "nbformat": 4,
 "nbformat_minor": 1
}
